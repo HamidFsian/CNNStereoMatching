{
 "cells": [
  {
   "cell_type": "code",
   "execution_count": 1,
   "metadata": {},
   "outputs": [
    {
     "name": "stderr",
     "output_type": "stream",
     "text": [
      "C:\\Nouveau dossier\\lib\\site-packages\\torchvision\\io\\image.py:11: UserWarning: Failed to load image Python extension: Could not find module 'C:\\Nouveau dossier\\Lib\\site-packages\\torchvision\\image.pyd' (or one of its dependencies). Try using the full path with constructor syntax.\n",
      "  warn(f\"Failed to load image Python extension: {e}\")\n"
     ]
    }
   ],
   "source": [
    "from __future__ import print_function\n",
    "import argparse\n",
    "import os\n",
    "import random\n",
    "import torch\n",
    "import torch.nn as nn\n",
    "import torchvision.transforms as transforms\n",
    "import torch.nn.functional as F\n",
    "import numpy as np\n",
    "import time\n",
    "import math\n",
    "from models import *\n",
    "from PIL import Image\n",
    "import cv2"
   ]
  },
  {
   "cell_type": "code",
   "execution_count": 29,
   "metadata": {},
   "outputs": [],
   "source": [
    "import numpy as np\n",
    "import skimage.exposure\n",
    "import cv2\n",
    "\n",
    "# load image as grayscale\n",
    "img = cv2.imread(\"C:/Users/itta_/Documents/python_projects/StereoMatching/KITTI2015/results2/000012_10.png\", cv2.IMREAD_ANYDEPTH)\n",
    "\n",
    "# stretch to full dynamic range\n",
    "stretch = skimage.exposure.rescale_intensity(img, in_range='image', out_range=(0,255)).astype(np.uint8)\n",
    "\n",
    "# convert to 3 channels\n",
    "stretch = cv2.merge([stretch,stretch,stretch])\n",
    "\n",
    "# define colors\n",
    "color1 = (0, 0, 255)     #red\n",
    "color2 = (0, 165, 255)   #orange\n",
    "color3 = (0, 255, 255)   #yellow\n",
    "color4 = (255, 255, 0)   #cyan\n",
    "color5 = (255, 0, 0)     #blue\n",
    "color6 = (128, 64, 64)   #violet\n",
    "colorArr = np.array([[color1, color2, color3, color4, color5, color6]], dtype=np.uint8)\n",
    "\n",
    "# resize lut to 256 (or more) values\n",
    "lut = cv2.resize(colorArr, (256,1), interpolation = cv2.INTER_LINEAR)\n",
    "\n",
    "# apply lut\n",
    "result = cv2.LUT(stretch, lut)\n",
    "dim = (600,600)\n",
    "result = cv2.resize(result,dim)\n",
    "\n",
    "# create gradient image\n",
    "grad = np.linspace(0, 255, 512, dtype=np.uint8)\n",
    "grad = np.tile(grad, (20,1))\n",
    "grad = cv2.merge([grad,grad,grad])\n",
    "\n",
    "# apply lut to gradient for viewing\n",
    "grad_colored = cv2.LUT(grad, lut)\n",
    "\n",
    "# save result\n",
    "cv2.imwrite('dist_img_colorized.png', result)\n",
    "cv2.imwrite('dist_img_lut.png', grad_colored)\n",
    "\n",
    "# display result\n",
    "cv2.imshow('RESULT', result)\n",
    "cv2.imshow('LUT', grad_colored)\n",
    "cv2.waitKey(0)\n",
    "cv2.destroyAllWindows()"
   ]
  }
 ],
 "metadata": {
  "interpreter": {
   "hash": "58081c67c3bd32e773f77cdb50213c1822b45171517d0c05ecb7b36be331c1bc"
  },
  "kernelspec": {
   "display_name": "Python 3.9.7 64-bit",
   "language": "python",
   "name": "python3"
  },
  "language_info": {
   "codemirror_mode": {
    "name": "ipython",
    "version": 3
   },
   "file_extension": ".py",
   "mimetype": "text/x-python",
   "name": "python",
   "nbconvert_exporter": "python",
   "pygments_lexer": "ipython3",
   "version": "3.9.7"
  },
  "orig_nbformat": 4
 },
 "nbformat": 4,
 "nbformat_minor": 2
}
